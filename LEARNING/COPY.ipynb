{
 "metadata": {
  "language_info": {
   "codemirror_mode": {
    "name": "ipython",
    "version": 3
   },
   "file_extension": ".py",
   "mimetype": "text/x-python",
   "name": "python",
   "nbconvert_exporter": "python",
   "pygments_lexer": "ipython3",
   "version": "3.7.7-final"
  },
  "orig_nbformat": 2,
  "kernelspec": {
   "name": "python3",
   "display_name": "Python 3"
  }
 },
 "nbformat": 4,
 "nbformat_minor": 2,
 "cells": [
  {
   "source": [
    "# 如何理解 Python 拷贝\n",
    "\n",
    "## 知识点\n",
    "\n",
    "### 一、几个概念\n",
    "\n",
    "在理解 Python 的拷贝机制之前，需要先了解几个概念：\n",
    "\n",
    "- 变量：是一个系统表的元素，拥有指向对象的连接空间\n",
    "- 对象：被分配的一块内存，存储数据\n",
    "- 引用：自动形成的从变量到对象的指针\n",
    "- 类型：属于对象，而非属于变量\n",
    "- **不可变对象**：一旦创建就不可以修改的对象，包括元组、字符串、数值类型等\n",
    "- **可变对象**：创建后仍可以修改的对象，包括列表、字典、集合等\n",
    "\n",
    "### 二、赋值（复制）\n",
    "\n",
    "**赋值：只是复制了对象的引用，并不开辟新的内存空间。**并不会生成新的独立对象，只是为原有数据块打上新标签。\n",
    "\n",
    "当执行 `a = 1` 时，Python 解释器做了什么？\n",
    "\n",
    "- 创建变量（变量名） `a`\n",
    "- 创建对象（分配内存空间，**仅首次**），存储数据 `1`\n",
    "- 将变量与对象通过指针链接起来，称之为**引用**\n",
    "\n",
    "深入了解 Python 解释器，请查看 [此文](https://app.yinxiang.com/shard/s64/nl/20318504/391dd303-4227-453e-8fa4-dcb20e39da1b)。\n",
    "\n",
    "### 三、浅拷贝\n",
    "\n",
    "**浅拷贝：创建了新对象，其内容是对原对象的引用。**浅拷贝有三种形式：切片操作、工厂函数、`copy.copy`。\n",
    "\n",
    "```Python\n",
    "lst = [1, [2, 3]]\n",
    "cpy = lst[:]\n",
    "cpy = list(lst)\n",
    "cpy = copy.copy(lst)\n",
    "```\n",
    "\n",
    "浅拷贝分情况说明：\n",
    "\n",
    "- 外层对象可变时改变地址，不可变时不改变地址\n",
    "- 内部对象可变或不可变都不改变地址\n",
    "\n",
    "### 四、深拷贝\n",
    "\n",
    "**深拷贝：拷贝了原对象的所有元素，包括多层嵌套的元素，深拷贝的对象与原对象没有任何关联。**只有一种形式：`copy.deepcopy`。\n",
    "\n",
    "```Python\n",
    "lst = [1, [2, 3]]\n",
    "cpy = copy.deepcopy(lst)\n",
    "```\n",
    "\n",
    "深拷贝分情况说明：\n",
    "\n",
    "- 外部对象可变或不可变都会改变地址\n",
    "- 内部对象可变时改变地址，不可变时不改变地址\n",
    "\n",
    "### 五、特殊情况\n",
    "\n",
    "- 对于**非容器类型**（譬如数字、字符串和其他原子类型数据）没有拷贝的概念，即对于原子类型数据，赋值=浅拷贝=深拷贝\n",
    "- 对于**只包含原子类型数据的元组**不能进行深拷贝，或者说，浅拷贝=深拷贝\n",
    "\n",
    "## 测试\n"
   ],
   "cell_type": "markdown",
   "metadata": {}
  },
  {
   "cell_type": "code",
   "execution_count": 18,
   "metadata": {},
   "outputs": [
    {
     "output_type": "stream",
     "name": "stdout",
     "text": [
      "(1, [2, 3])\n2306017971848\n[140720296468880, 2306029906888]\n====== 赋值 =====\n(1, [2, 3])\n2306017971848\n[140720296468880, 2306029906888]\n====== 浅拷贝 =====\n(1, [2, 3])\n2306017971848\n[140720296468880, 2306029906888]\n====== 深拷贝 =====\n(1, [2, 3])\n2306023051464\n[140720296468880, 2306020518280]\n====== 修改 =====\n(1, [2, 3, 4])\n(1, [2, 3, 4])\n(1, [2, 3, 4])\n(1, [2, 3])\n"
     ]
    }
   ],
   "source": [
    "import copy\n",
    "oobj = (1, [2, 3])\n",
    "print(oobj)\n",
    "print(id(oobj))\n",
    "print([id(elem) for elem in oobj])\n",
    "print(\"====== 赋值 =====\")\n",
    "asgn = oobj\n",
    "print(asgn)\n",
    "print(id(asgn))\n",
    "print([id(elem) for elem in asgn])\n",
    "print(\"====== 浅拷贝 =====\")\n",
    "scpy = copy.copy(oobj)\n",
    "print(scpy)\n",
    "print(id(scpy))\n",
    "print([id(elem) for elem in scpy])\n",
    "print(\"====== 深拷贝 =====\")\n",
    "dcpy = copy.deepcopy(oobj)\n",
    "print(dcpy)\n",
    "print(id(dcpy))\n",
    "print([id(elem) for elem in dcpy])\n",
    "print(\"====== 修改 =====\")\n",
    "oobj[1].append(4)\n",
    "print(oobj)\n",
    "print(asgn)\n",
    "print(scpy)\n",
    "print(dcpy)"
   ]
  },
  {
   "cell_type": "code",
   "execution_count": 20,
   "metadata": {},
   "outputs": [
    {
     "output_type": "stream",
     "name": "stdout",
     "text": [
      "[1, [2, 3]]\n2306027126280\n[140720296468880, 2306027710664]\n====== 赋值 =====\n[1, [2, 3]]\n2306027126280\n[140720296468880, 2306027710664]\n====== 浅拷贝 =====\n[1, [2, 3]]\n2306022008008\n[140720296468880, 2306027710664]\n====== 深拷贝 =====\n[1, [2, 3]]\n2306024181576\n[140720296468880, 2306024180232]\n====== 修改 =====\n[2, [2, 3, 4]]\n[2, [2, 3, 4]]\n[1, [2, 3, 4]]\n[1, [2, 3]]\n"
     ]
    }
   ],
   "source": [
    "import copy\n",
    "oobj = [1, [2, 3]]\n",
    "print(oobj)\n",
    "print(id(oobj))\n",
    "print([id(elem) for elem in oobj])\n",
    "print(\"====== 赋值 =====\")\n",
    "asgn = oobj\n",
    "print(asgn)\n",
    "print(id(asgn))\n",
    "print([id(elem) for elem in asgn])\n",
    "print(\"====== 浅拷贝 =====\")\n",
    "scpy = copy.copy(oobj)\n",
    "print(scpy)\n",
    "print(id(scpy))\n",
    "print([id(elem) for elem in scpy])\n",
    "print(\"====== 深拷贝 =====\")\n",
    "dcpy = copy.deepcopy(oobj)\n",
    "print(dcpy)\n",
    "print(id(dcpy))\n",
    "print([id(elem) for elem in dcpy])\n",
    "print(\"====== 修改 =====\")\n",
    "oobj[0] = 2\n",
    "oobj[1].append(4)\n",
    "print(oobj)\n",
    "print(asgn)\n",
    "print(scpy)\n",
    "print(dcpy)"
   ]
  },
  {
   "cell_type": "code",
   "execution_count": 22,
   "metadata": {},
   "outputs": [
    {
     "output_type": "stream",
     "name": "stdout",
     "text": [
      "====== 非容器 =====\nTrue\nTrue\n====== 不可变 =====\nTrue\nTrue\n"
     ]
    }
   ],
   "source": [
    "import copy\n",
    "print(\"====== 非容器 =====\")\n",
    "oobj = \"COPY\"\n",
    "scpy = copy.copy(oobj)\n",
    "print(scpy is oobj)\n",
    "dcpy = copy.deepcopy(oobj)\n",
    "print(dcpy is oobj)\n",
    "print(\"====== 不可变 =====\")\n",
    "oobj = (5, \"5\")\n",
    "scpy = copy.copy(oobj)\n",
    "print(scpy is oobj)\n",
    "dcpy = copy.deepcopy(oobj)\n",
    "print(dcpy is oobj)"
   ]
  },
  {
   "source": [
    "## 总结\n",
    "\n",
    "- Python 中的赋值都只是进行对象引用（内存地址）的传递\n",
    "- 外层对象：浅拷贝在对象可变时改变了地址，不可变时不改变地址；深拷贝则都会改变地址\n",
    "- 内部对象：浅拷贝都不改变地址；深拷贝则在对象可变时改变地址，不可变时不改变地址\n",
    "- 对于非容器类型和只包含原子类型数据的元组（完全不可变），赋值=浅拷贝=深拷贝\n",
    "- 地址的改变表示对原对象进行改变并不会影响到新对象"
   ],
   "cell_type": "markdown",
   "metadata": {}
  }
 ]
}
{
 "metadata": {
  "language_info": {
   "codemirror_mode": {
    "name": "ipython",
    "version": 3
   },
   "file_extension": ".py",
   "mimetype": "text/x-python",
   "name": "python",
   "nbconvert_exporter": "python",
   "pygments_lexer": "ipython3",
   "version": "3.7.9-final"
  },
  "orig_nbformat": 2,
  "kernelspec": {
   "name": "python3",
   "display_name": "Python 3.7.9 64-bit ('learning': conda)",
   "metadata": {
    "interpreter": {
     "hash": "2ece4d95b11998cbe834042c7ce9434805e8f71abe44ff4c516c3a46986a78f2"
    }
   }
  }
 },
 "nbformat": 4,
 "nbformat_minor": 2,
 "cells": [
  {
   "source": [
    "# 如何理解 Python 闭包\n",
    "\n",
    "## 知识点\n",
    "\n",
    "### 一、返回值\n",
    "\n",
    "普通函数的返回值为整数、字符串、列表等，闭包的外层函数返回的是内层函数的对象或函数。若返回的是对象，则返回值可以被调用，若返回的是函数，则调用外层函数会直接调用内层函数。\n",
    "\n",
    "### 二、嵌套函数\n",
    "\n",
    "闭包是一个嵌套函数，内层函数可以使用外层函数的入口参数，可以引用外层函数变量，这种内层函数调用外层变量的行为，就叫做闭包。\n",
    "\n",
    "### 三、生命周期\n",
    "\n",
    "闭包中外层变量的生命周期会被延长，这主要使用了 Python 的一个魔法属性 `__closure__`，它负责把外层变量的生命周期延长，内层函数 `inner_func.__closure__` 有返回值时表示该外层函数为闭包，反之不为闭包。\n",
    "\n",
    "### 四、闭包原理\n",
    "\n",
    "Python中什么都可以是对象，包括**函数也是对象**，因此可以作为参数传递、赋值给其他变量或者作为返回值等，这就是Python闭包的原理。\n",
    "\n",
    "## 测试\n"
   ],
   "cell_type": "markdown",
   "metadata": {}
  },
  {
   "cell_type": "code",
   "execution_count": 9,
   "metadata": {},
   "outputs": [
    {
     "output_type": "stream",
     "name": "stdout",
     "text": [
      "(<cell at 0x0000021A818451C8: str object at 0x0000021AFBED62F0>,)\nx\n"
     ]
    }
   ],
   "source": [
    "# 外层函数的返回值为内层函数\n",
    "# 调用外层函数则直接调用内层函数\n",
    "\n",
    "def outer_func(val):\n",
    "    def inner_func():\n",
    "        print(val)\n",
    "    print(inner_func.__closure__)\n",
    "    return inner_func()\n",
    "\n",
    "outer_func('x')"
   ]
  },
  {
   "cell_type": "code",
   "execution_count": 10,
   "metadata": {},
   "outputs": [
    {
     "output_type": "stream",
     "name": "stdout",
     "text": [
      "(<cell at 0x0000021A81BA9588: str object at 0x0000021AFBED62F0>,)\n<function outer_func.<locals>.inner_func at 0x0000021A81838798>\nx\n"
     ]
    }
   ],
   "source": [
    "# 外层函数的返回值为内层函数的对象\n",
    "# 返回值可以直接被调用\n",
    "\n",
    "def outer_func(val):\n",
    "    def inner_func():\n",
    "        print(val)\n",
    "    print(inner_func.__closure__)\n",
    "    return inner_func\n",
    "\n",
    "fn = outer_func('x')\n",
    "print(fn)\n",
    "fn()"
   ]
  },
  {
   "cell_type": "code",
   "execution_count": 6,
   "metadata": {},
   "outputs": [
    {
     "output_type": "stream",
     "name": "stdout",
     "text": [
      "(<cell at 0x0000021A81C1DF48: list object at 0x0000021A81A7A608>,)\n['a']\n['a', 'b']\n['a', 'b', 'c']\n"
     ]
    }
   ],
   "source": [
    "# 内层函数引用外层函数变量\n",
    "# `inner_func.__closure__` 有返回值，因此是闭包\n",
    "# 每次调用都是对外层变量`lis`进行操作\n",
    "\n",
    "def outer_func():\n",
    "    lis = []\n",
    "    def inner_func(val):\n",
    "        lis.append(val)\n",
    "        print(lis)\n",
    "    print(inner_func.__closure__)\n",
    "    return inner_func\n",
    "\n",
    "fn = outer_func()\n",
    "fn('a')\n",
    "fn('b')\n",
    "fn('c')"
   ]
  },
  {
   "cell_type": "code",
   "execution_count": 7,
   "metadata": {},
   "outputs": [
    {
     "output_type": "stream",
     "name": "stdout",
     "text": [
      "None\n['a']\n['b']\n['c']\n"
     ]
    }
   ],
   "source": [
    "# 与上面对比，`inner_func.__closure__` 没有返回值\n",
    "# 因此不是闭包，每次调用都会重新清空 `ilis`\n",
    "\n",
    "def outer_func():\n",
    "    lis = []\n",
    "    def inner_func(val):\n",
    "        ilis = []\n",
    "        ilis.append(val)\n",
    "        print(ilis)\n",
    "    print(inner_func.__closure__)\n",
    "    return inner_func\n",
    "\n",
    "fn = outer_func()\n",
    "fn('a')\n",
    "fn('b')\n",
    "fn('c')"
   ]
  },
  {
   "cell_type": "code",
   "execution_count": 16,
   "metadata": {},
   "outputs": [
    {
     "output_type": "stream",
     "name": "stdout",
     "text": [
      "(<cell at 0x0000021A81B833A8: int object at 0x00007FFC0242A170>,)\n(<cell at 0x0000021A81B833A8: int object at 0x00007FFC0242A190>,)\n(<cell at 0x0000021A81B833A8: int object at 0x00007FFC0242A1B0>,)\n4\n4\n4\n"
     ]
    }
   ],
   "source": [
    "# 闭包陷阱I\n",
    "# `inner_func.__closure__` 有返回值，因此是闭包\n",
    "# 内层函数的 `i` 引用的是外层函数的 `i`，因此都等于外层变量的最终值\n",
    "\n",
    "def outer_func():\n",
    "    flis = []\n",
    "    for i in range(3):\n",
    "        def inner_func():\n",
    "            return i * i\n",
    "        print(inner_func.__closure__)\n",
    "        flis.append(inner_func)\n",
    "    return flis\n",
    "\n",
    "fn1, fn2, fn3 = outer_func()\n",
    "print(fn1())\n",
    "print(fn2())\n",
    "print(fn3())"
   ]
  },
  {
   "cell_type": "code",
   "execution_count": 17,
   "metadata": {},
   "outputs": [
    {
     "output_type": "stream",
     "name": "stdout",
     "text": [
      "None\nNone\nNone\n0\n1\n4\n"
     ]
    }
   ],
   "source": [
    "# 闭包陷阱II\n",
    "# `inner_func.__closure__` 没有返回值，因此不是闭包\n",
    "# 内层函数的 `j` 是独立于外层的新变量，因此不受外层变量影响\n",
    "\n",
    "def outer_func():\n",
    "    flis = []\n",
    "    for i in range(3):\n",
    "        def inner_func(j=i):\n",
    "            return j * j\n",
    "        print(inner_func.__closure__)\n",
    "        flis.append(inner_func)\n",
    "    return flis\n",
    "\n",
    "fn1, fn2, fn3 = outer_func()\n",
    "print(fn1())\n",
    "print(fn2())\n",
    "print(fn3())"
   ]
  }
 ]
}
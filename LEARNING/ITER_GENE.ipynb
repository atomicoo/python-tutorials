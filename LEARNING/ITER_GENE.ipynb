{
 "metadata": {
  "language_info": {
   "codemirror_mode": {
    "name": "ipython",
    "version": 3
   },
   "file_extension": ".py",
   "mimetype": "text/x-python",
   "name": "python",
   "nbconvert_exporter": "python",
   "pygments_lexer": "ipython3",
   "version": "3.7.9-final"
  },
  "orig_nbformat": 2,
  "kernelspec": {
   "name": "python3",
   "display_name": "Python 3"
  }
 },
 "nbformat": 4,
 "nbformat_minor": 2,
 "cells": [
  {
   "source": [
    "# 如何理解 Python 迭代器/生成器\n",
    "\n",
    "## 知识点\n",
    "\n",
    "### 迭代器\n",
    "\n",
    "- 迭代器是一个可以记住遍历位置的对象\n",
    "- 迭代器从集合的第一个元素开始遍历，直至访问完所有元素，只会往前不会后退\n",
    "- 迭代器有两个基本用法：`iter()` 和 `next()`，也可以用 `for` 循环遍历\n",
    "- 迭代器遍历完所有元素后会抛出一个 `StopIteration`，表示遍历结束\n",
    "- 字符串、列表、元组、集合并不是迭代对象，不能用 `next()` 访问，但可以用 `for` 循环遍历\n",
    "\n",
    "### 生成器\n",
    "\n",
    "- 生成器是一个使用了 `yield` 的函数\n",
    "- 与普通函数不同，生成器每次返回一个迭代对象，只能用于迭代操作\n",
    "- 在调用生成器的过程中，每次遇到 `yield` 时函数暂停并保存当前所有运行信息，返回 `yield` 的值，并在下一次从当前位置继续运行\n",
    "- 生成器是一种特殊的迭代器，可以通过 `next()` 访问，也可以用 `for` 循环遍历\n",
    "\n",
    "## 测试"
   ],
   "cell_type": "markdown",
   "metadata": {}
  },
  {
   "cell_type": "code",
   "execution_count": 1,
   "metadata": {},
   "outputs": [
    {
     "output_type": "stream",
     "name": "stdout",
     "text": [
      "a\nb\nc\n"
     ]
    },
    {
     "output_type": "error",
     "ename": "StopIteration",
     "evalue": "",
     "traceback": [
      "\u001b[1;31m---------------------------------------------------------------------------\u001b[0m",
      "\u001b[1;31mStopIteration\u001b[0m                             Traceback (most recent call last)",
      "\u001b[1;32m<ipython-input-1-e051a48e56f1>\u001b[0m in \u001b[0;36m<module>\u001b[1;34m\u001b[0m\n\u001b[0;32m      4\u001b[0m \u001b[0mprint\u001b[0m\u001b[1;33m(\u001b[0m\u001b[0mnext\u001b[0m\u001b[1;33m(\u001b[0m\u001b[0mit\u001b[0m\u001b[1;33m)\u001b[0m\u001b[1;33m)\u001b[0m\u001b[1;33m\u001b[0m\u001b[1;33m\u001b[0m\u001b[0m\n\u001b[0;32m      5\u001b[0m \u001b[0mprint\u001b[0m\u001b[1;33m(\u001b[0m\u001b[0mnext\u001b[0m\u001b[1;33m(\u001b[0m\u001b[0mit\u001b[0m\u001b[1;33m)\u001b[0m\u001b[1;33m)\u001b[0m\u001b[1;33m\u001b[0m\u001b[1;33m\u001b[0m\u001b[0m\n\u001b[1;32m----> 6\u001b[1;33m \u001b[0mprint\u001b[0m\u001b[1;33m(\u001b[0m\u001b[0mnext\u001b[0m\u001b[1;33m(\u001b[0m\u001b[0mit\u001b[0m\u001b[1;33m)\u001b[0m\u001b[1;33m)\u001b[0m\u001b[1;33m\u001b[0m\u001b[1;33m\u001b[0m\u001b[0m\n\u001b[0m",
      "\u001b[1;31mStopIteration\u001b[0m: "
     ]
    }
   ],
   "source": [
    "# 迭代器基本用法：`iter()` 和 `next()`\n",
    "# 遍历完所有元素后将抛出一个 `StopIteration` 表示遍历结束\n",
    "\n",
    "ss = 'abc'\n",
    "it = iter(ss)\n",
    "print(next(it))\n",
    "print(next(it))\n",
    "print(next(it))\n",
    "print(next(it))"
   ]
  },
  {
   "cell_type": "code",
   "execution_count": 3,
   "metadata": {},
   "outputs": [
    {
     "output_type": "stream",
     "name": "stdout",
     "text": [
      "c\nb\na\n"
     ]
    }
   ],
   "source": [
    "# 为自定义类添加迭代器行为\n",
    "# 每次返回一个当前值并记住下一个位置\n",
    "# 方式一：实现 `__next__`，`__iter__` 返回 `self` 即可\n",
    "\n",
    "class Reverse:\n",
    "    \"\"\"Iterator for looping over a sequence backwards.\"\"\"\n",
    "    def __init__(self, data):\n",
    "        self._data = data\n",
    "        self._index = len(data)\n",
    "    \n",
    "    def __iter__(self):\n",
    "        return self\n",
    "    \n",
    "    def __next__(self):\n",
    "        if self._index == 0:\n",
    "            raise StopIteration\n",
    "        self._index -= 1\n",
    "        return self._data[self._index]\n",
    "\n",
    "rev = Reverse('abc')\n",
    "for char in rev:\n",
    "    print(char)"
   ]
  },
  {
   "cell_type": "code",
   "execution_count": 11,
   "metadata": {},
   "outputs": [
    {
     "output_type": "stream",
     "name": "stdout",
     "text": [
      "c\nb\na\n"
     ]
    }
   ],
   "source": [
    "# 方式二：实现 `__iter__` 返回一个迭代器，无需实现 `__next__`\n",
    "\n",
    "class Reverse:\n",
    "    \"\"\"Iterator for looping over a sequence backwards.\"\"\"\n",
    "    def __init__(self, data):\n",
    "        self._data = data\n",
    "    \n",
    "    def __iter__(self):\n",
    "        lst = list(self._data)\n",
    "        lst.reverse()\n",
    "        return iter(lst)\n",
    "\n",
    "rev = Reverse('abc')\n",
    "for char in rev:\n",
    "    print(char)"
   ]
  },
  {
   "cell_type": "code",
   "execution_count": 12,
   "metadata": {},
   "outputs": [
    {
     "output_type": "stream",
     "name": "stdout",
     "text": [
      "c\nb\na\n"
     ]
    }
   ],
   "source": [
    "# 生成器的写法类似标准函数，只是使用了 `yield` 语句\n",
    "\n",
    "def reverse(data):\n",
    "    for index in range(len(data)-1, -1, -1):\n",
    "        yield data[index]\n",
    "\n",
    "for char in reverse('abc'):\n",
    "    print(char)"
   ]
  },
  {
   "cell_type": "code",
   "execution_count": 15,
   "metadata": {},
   "outputs": [
    {
     "output_type": "stream",
     "name": "stdout",
     "text": [
      "func1\n=====\nfunc2\na\nb\nc\n"
     ]
    }
   ],
   "source": [
    "# 普通函数与生成器\n",
    "\n",
    "def func1():\n",
    "    print(\"func1\")\n",
    "\n",
    "def func2():\n",
    "    print(\"func2\")\n",
    "    yield 'a'\n",
    "    yield 'b'\n",
    "    yield 'c'\n",
    "\n",
    "f1 = func1()    # 普通函数：进入 func1，输出\"func1\"\n",
    "f2 = func2()    # 生成器：不进入 func2，无输出\n",
    "print(\"=====\")\n",
    "for char in f2: # f2 被调用后才真正进入 func2 开始输出\n",
    "    print(char)"
   ]
  },
  {
   "cell_type": "code",
   "execution_count": null,
   "metadata": {},
   "outputs": [],
   "source": []
  }
 ]
}
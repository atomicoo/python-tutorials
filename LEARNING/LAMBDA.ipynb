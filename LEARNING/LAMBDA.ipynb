{
 "metadata": {
  "language_info": {
   "codemirror_mode": {
    "name": "ipython",
    "version": 3
   },
   "file_extension": ".py",
   "mimetype": "text/x-python",
   "name": "python",
   "nbconvert_exporter": "python",
   "pygments_lexer": "ipython3",
   "version": "3.7.9-final"
  },
  "orig_nbformat": 2,
  "kernelspec": {
   "name": "python3",
   "display_name": "Python 3"
  }
 },
 "nbformat": 4,
 "nbformat_minor": 2,
 "cells": [
  {
   "source": [
    "# 如何理解 Python 匿名函数\n",
    "\n",
    "## 知识点\n",
    "\n",
    "### 一个语法\n",
    "\n",
    "在 Python 中，定义匿名函数需要用到预留的关键字 `lambda`，其语法是唯一的，具体形式如下：\n",
    "\n",
    "```Python\n",
    "lambda args_list : expression\n",
    "```\n",
    "\n",
    "其中 `args_list` 是匿名函数的参数列表，`expression` 是匿名函数的表达式。\n",
    "\n",
    "- `args_list`的结构与普通函数（function）的参数列表是一样的，具有非常丰富的形式：`a, b`、`a=1, b=1`、`*args`、`**kwargs`、`(空)` 等\n",
    "- `expression` 是匿名函数对应的表达式，只能是单行，譬如：`0`、`None`、`a+b`、`sum(a)`、`1 if a>5 else 0` 等\n",
    "- 整个语句 `lambda args_list : expression` 表示一个函数，称为“匿名函数”或者“Lambda 函数”\n",
    "\n",
    "### 三个特性\n",
    "\n",
    "Lambda 函数具有以下三个特性：\n",
    "\n",
    "- Lambda 函数是匿名的，简单来说就是没有名字的\n",
    "- Lambda 函数有输入和输出：输入就是参数列表，输出就是表达式的值\n",
    "- Lambda 函数一般功能较简单：单行的限制决定了它不可能完成复杂的逻辑\n",
    "\n",
    "### 四个用法\n",
    "\n",
    "由于 `lambda` 的语法是唯一的，其用法本质上只有一种，但是根据实际使用场景可以扩展出以下四个用法：\n",
    "\n",
    "- 将 Lambda 函数赋值给一个变量，通过该变量间接调用\n",
    "- 将 Lambda 函数赋值给其他函数，屏蔽或重写其他函数\n",
    "- 将 Lambda 函数作为返回值返回给调用者，譬如：闭包（关于闭包请查看[此文](https://app.yinxiang.com/shard/s64/nl/20318504/a367b1de-5fb7-430b-9a63-17724f07bdf3)）\n",
    "- 将 Lambda 函数作为参数传递给其他函数，譬如：`filter()`、`sorted()`、`map()`、`reduce()`\n",
    "\n",
    "### 一个争论\n",
    "\n",
    "关于 Lambda 的使用在 Python 社区是有争议的：\n",
    "\n",
    "- 正方：Lambda 可以使代码紧凑，更 pythonic\n",
    "- 反方：Lambda 功能十分局限，且阅读者需要额外的理解成本\n",
    "\n",
    "## 测试\n"
   ],
   "cell_type": "markdown",
   "metadata": {}
  },
  {
   "cell_type": "code",
   "execution_count": 36,
   "metadata": {},
   "outputs": [
    {
     "output_type": "stream",
     "name": "stdout",
     "text": [
      "3\n"
     ]
    }
   ],
   "source": [
    "# 用法一：\n",
    "# fn = lambda x,y: x+y\n",
    "# 等价于\n",
    "# def fn(x, y):\n",
    "#     return x + y\n",
    "\n",
    "fn = lambda x,y: x+y\n",
    "print(fn(1, 2))"
   ]
  },
  {
   "cell_type": "code",
   "execution_count": 44,
   "metadata": {},
   "outputs": [],
   "source": [
    "# 用法二：\n",
    "import time\n",
    "\n",
    "time.sleep = lambda x:None   # 屏蔽 `sleep` 方法\n",
    "time.sleep(3)"
   ]
  },
  {
   "cell_type": "code",
   "execution_count": 48,
   "metadata": {},
   "outputs": [
    {
     "output_type": "execute_result",
     "data": {
      "text/plain": [
       "3"
      ]
     },
     "metadata": {},
     "execution_count": 48
    }
   ],
   "source": [
    "# 用法三（闭包）：\n",
    "# foo = lambda x: lambda :x\n",
    "# 等价于\n",
    "# def foo(n):\n",
    "#     def bar():\n",
    "#         return n\n",
    "\n",
    "foo = lambda x: lambda :x\n",
    "fn = foo(3)\n",
    "fn()"
   ]
  },
  {
   "cell_type": "code",
   "execution_count": 70,
   "metadata": {},
   "outputs": [
    {
     "output_type": "stream",
     "name": "stdout",
     "text": [
      "[1, 2, 4, 5]\n[2, 1, 3, 0, 4, 5]\n[0, 1, 4, 9, 16, 25]\n15\n"
     ]
    }
   ],
   "source": [
    "# 用法四：\n",
    "from functools import reduce\n",
    "\n",
    "lst = list(range(6))\n",
    "result = list(filter(lambda x: x%3, lst))   # 过滤\n",
    "print(result)\n",
    "result = sorted(lst, key=lambda x:abs(2-x)) # 排序\n",
    "print(result)\n",
    "result = list(map(lambda x: x**2, lst)) # 映射\n",
    "print(result)\n",
    "result = reduce(lambda x,y: x+y, lst)   # 数据合并\n",
    "print(result)"
   ]
  },
  {
   "cell_type": "code",
   "execution_count": 74,
   "metadata": {},
   "outputs": [
    {
     "output_type": "stream",
     "name": "stdout",
     "text": [
      "<class 'generator'>\n0\n1\n4\n"
     ]
    }
   ],
   "source": [
    "# 生成器\n",
    "\n",
    "gen = (lambda :x**2 for x in range(3))\n",
    "print(type(gen))\n",
    "print(next(gen)())  # 0\n",
    "print(next(gen)())  # 1\n",
    "print(next(gen)())  # 4"
   ]
  },
  {
   "cell_type": "code",
   "execution_count": 71,
   "metadata": {},
   "outputs": [
    {
     "output_type": "stream",
     "name": "stdout",
     "text": [
      "<class 'list'>\n4\n4\n4\n"
     ]
    }
   ],
   "source": [
    "# 对比上面，差别仅在于 `lst = (...)` 和 `lst = [...]`\n",
    "# 输出之所以不同是因为后者等价于\n",
    "# def func():\n",
    "#     lst = []\n",
    "#     for x in range(3):\n",
    "#         lst.append(lambda :x**2)\n",
    "#     return lst\n",
    "# lst = func()\n",
    "# 形成闭包\n",
    "\n",
    "lst = [lambda :x**2 for x in range(3)]\n",
    "print(type(lst))\n",
    "print(lst[0]()) # 4\n",
    "print(lst[1]()) # 4\n",
    "print(lst[1]()) # 4"
   ]
  },
  {
   "cell_type": "code",
   "execution_count": null,
   "metadata": {},
   "outputs": [],
   "source": []
  }
 ]
}